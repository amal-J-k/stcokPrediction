{
 "cells": [
  {
   "cell_type": "code",
   "execution_count": null,
   "id": "72c4cb09-ed2d-4666-bd7b-bfa0dbee5ed6",
   "metadata": {},
   "outputs": [],
   "source": []
  }
 ],
 "metadata": {
  "kernelspec": {
   "display_name": "",
   "name": ""
  },
  "language_info": {
   "name": ""
  }
 },
 "nbformat": 4,
 "nbformat_minor": 5
}
